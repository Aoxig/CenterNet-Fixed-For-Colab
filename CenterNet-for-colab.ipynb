{
  "nbformat": 4,
  "nbformat_minor": 0,
  "metadata": {
    "colab": {
      "name": "CenterNet-Veerasense.ipynb",
      "provenance": [],
      "collapsed_sections": []
    },
    "kernelspec": {
      "name": "python3",
      "display_name": "Python 3"
    },
    "language_info": {
      "name": "python"
    },
    "accelerator": "GPU"
  },
  "cells": [
    {
      "cell_type": "markdown",
      "metadata": {
        "id": "lLL2dr4D47Kx"
      },
      "source": [
        "# **🛠 CenterNet Fixed For Google Colab**\n",
        "\n",
        "[Docs](https://mehrdad-dev.ir/CenterNet-Fixed-For-Colab/)\n",
        "\n",
        "[GitHub](https://github.com/mehrdad-dev/CenterNet-Fixed-For-Colab)"
      ]
    },
    {
      "cell_type": "markdown",
      "metadata": {
        "id": "zF7Vj2t1z8eD"
      },
      "source": [
        "## **Clone CenterNet**"
      ]
    },
    {
      "cell_type": "code",
      "metadata": {
        "id": "FCI4p4M2jD3n"
      },
      "source": [
        "! git clone https://github.com/mehrdad-dev/CenterNet-Fixed-For-Colab.git"
      ],
      "execution_count": null,
      "outputs": []
    },
    {
      "cell_type": "markdown",
      "metadata": {
        "id": "WiXEQxOL0Ffh"
      },
      "source": [
        "## **Install Conda**"
      ]
    },
    {
      "cell_type": "code",
      "metadata": {
        "id": "5ekx4wsVom7c"
      },
      "source": [
        "! wget https://repo.anaconda.com/miniconda/Miniconda3-py37_4.8.2-Linux-x86_64.sh\n",
        "! chmod +x Miniconda3-py37_4.8.2-Linux-x86_64.sh\n",
        "! bash ./Miniconda3-py37_4.8.2-Linux-x86_64.sh -b -f -p /usr/local\n",
        "import sys\n",
        "sys.path.append('/usr/local/lib/python3.7/site-packages/')"
      ],
      "execution_count": null,
      "outputs": []
    },
    {
      "cell_type": "code",
      "metadata": {
        "id": "Hu__rIeqfFAi"
      },
      "source": [
        "! conda install pytorch=1.4.0 torchvision -c pytorch"
      ],
      "execution_count": null,
      "outputs": []
    },
    {
      "cell_type": "code",
      "metadata": {
        "id": "OVsAyaAum3xu"
      },
      "source": [
        "! conda install -c intel mkl=2021"
      ],
      "execution_count": null,
      "outputs": []
    },
    {
      "cell_type": "markdown",
      "metadata": {
        "id": "eA5qjkRz0LZI"
      },
      "source": [
        "## **Install Pakages**"
      ]
    },
    {
      "cell_type": "code",
      "metadata": {
        "id": "W5DvJJQKWmkR"
      },
      "source": [
        "! pwd "
      ],
      "execution_count": null,
      "outputs": []
    },
    {
      "cell_type": "code",
      "metadata": {
        "id": "8aLuR4bdKPLO"
      },
      "source": [
        "%cd  /content/CenterNet-Fixed-For-Colab/"
      ],
      "execution_count": null,
      "outputs": []
    },
    {
      "cell_type": "code",
      "metadata": {
        "id": "itnE_QDsbwCV"
      },
      "source": [
        "! pip install -r requirements.txt"
      ],
      "execution_count": null,
      "outputs": []
    },
    {
      "cell_type": "markdown",
      "metadata": {
        "id": "Bci2fMbu0Qkt"
      },
      "source": [
        "## **Builds**"
      ]
    },
    {
      "cell_type": "code",
      "metadata": {
        "id": "6r15rb-A7fTy"
      },
      "source": [
        "%cd src/lib/models/networks/DCNv2/\n",
        "! sh make.sh"
      ],
      "execution_count": null,
      "outputs": []
    },
    {
      "cell_type": "code",
      "metadata": {
        "id": "dg-Kwh21MI_n"
      },
      "source": [
        "! pwd"
      ],
      "execution_count": null,
      "outputs": []
    },
    {
      "cell_type": "code",
      "metadata": {
        "id": "a-Q-ADcT547g"
      },
      "source": [
        "%cd ../../../../"
      ],
      "execution_count": null,
      "outputs": []
    },
    {
      "cell_type": "code",
      "metadata": {
        "id": "g_q63LTTxxGk"
      },
      "source": [
        "%cd lib/external"
      ],
      "execution_count": null,
      "outputs": []
    },
    {
      "cell_type": "code",
      "metadata": {
        "id": "DIoAvMyyx1AS"
      },
      "source": [
        "! python setup.py build_ext --inplace"
      ],
      "execution_count": null,
      "outputs": []
    },
    {
      "cell_type": "markdown",
      "metadata": {
        "id": "02GVFsS_0VrX"
      },
      "source": [
        "## **Run models on your dataset & Save results**"
      ]
    },
    {
      "cell_type": "code",
      "metadata": {
        "id": "fEl8lVeglXyD"
      },
      "source": [
        "%cd ../.."
      ],
      "execution_count": null,
      "outputs": []
    },
    {
      "cell_type": "code",
      "metadata": {
        "id": "9DelXTJ12JCO"
      },
      "source": [
        "!mkdir /content/CenterNet-Fixed-For-Colab/src/cache/debug"
      ],
      "execution_count": 22,
      "outputs": []
    },
    {
      "cell_type": "markdown",
      "metadata": {
        "id": "gsrM22KH0sY6"
      },
      "source": [
        "## **Hourglass**"
      ]
    },
    {
      "cell_type": "code",
      "metadata": {
        "id": "1cs1kLDTBGOo"
      },
      "source": [
        "! python demo.py ctdet --demo /content/drive/MyDrive/Data/veerasense/challaenge-data/ \\\n",
        "     --load_model /content/drive/MyDrive/models/ctdet_coco_hg.pth --arch hourglass"
      ],
      "execution_count": null,
      "outputs": []
    },
    {
      "cell_type": "code",
      "metadata": {
        "id": "sJDsJP6C0iqG"
      },
      "source": [
        "! zip -r /content/ctdet_coco_hg.zip /content/CenterNet/src/cache/debug"
      ],
      "execution_count": null,
      "outputs": []
    },
    {
      "cell_type": "code",
      "metadata": {
        "id": "AMgKFZ6k2FWX"
      },
      "source": [
        "!mv /content/CenterNet-Fixed-For-Colab/src/cache/debug/  /content/CenterNet-Fixed-For-Colab/src/cache/ctdet_coco_hg"
      ],
      "execution_count": 28,
      "outputs": []
    },
    {
      "cell_type": "code",
      "metadata": {
        "id": "Z6d4VnnX4R-B"
      },
      "source": [
        "!mkdir /content/CenterNet-Fixed-For-Colab/src/cache/debug"
      ],
      "execution_count": null,
      "outputs": []
    },
    {
      "cell_type": "markdown",
      "metadata": {
        "id": "oXFmVi2S08DZ"
      },
      "source": [
        "## **dla 1x**"
      ]
    },
    {
      "cell_type": "code",
      "metadata": {
        "id": "XV9OoLQpnBX1"
      },
      "source": [
        "! python demo.py ctdet --demo /content/drive/MyDrive/Data/veerasense/challaenge-data/ \\\n",
        "     --load_model /content/drive/MyDrive/models/ctdet_coco_dla_1x.pth"
      ],
      "execution_count": null,
      "outputs": []
    },
    {
      "cell_type": "code",
      "metadata": {
        "id": "3WxfWY1E0oC9"
      },
      "source": [
        "!zip -r /content/ctdet_coco_dla_1x.zip /content/CenterNet/src/cache/debug"
      ],
      "execution_count": null,
      "outputs": []
    },
    {
      "cell_type": "code",
      "metadata": {
        "id": "N0Tq1Kna4an2"
      },
      "source": [
        "!mv /content/CenterNet-Fixed-For-Colab/src/cache/debug/  /content/CenterNet-Fixed-For-Colab/src/cache/ctdet_coco_dla_1x"
      ],
      "execution_count": null,
      "outputs": []
    },
    {
      "cell_type": "code",
      "metadata": {
        "id": "ktZA4Eay4f1q"
      },
      "source": [
        "!mkdir /content/CenterNet-Fixed-For-Colab/src/cache/debug"
      ],
      "execution_count": null,
      "outputs": []
    },
    {
      "cell_type": "markdown",
      "metadata": {
        "id": "WwqSNK9P1AFQ"
      },
      "source": [
        "## **dla 2x**"
      ]
    },
    {
      "cell_type": "code",
      "metadata": {
        "id": "q17qnk3sW7Tv"
      },
      "source": [
        "! python demo.py ctdet --demo /content/drive/MyDrive/Data/veerasense/challaenge-data/ \\\n",
        "     --load_model /content/drive/MyDrive/models/ctdet_coco_dla_2x.pth"
      ],
      "execution_count": null,
      "outputs": []
    },
    {
      "cell_type": "code",
      "metadata": {
        "id": "ahX4TAmQ0pfk"
      },
      "source": [
        "!zip -r /content/ctdet_coco_dla_2x.zip /content/CenterNet/src/cache/debug"
      ],
      "execution_count": null,
      "outputs": []
    },
    {
      "cell_type": "code",
      "metadata": {
        "id": "_4zNHZHP4cEO"
      },
      "source": [
        "!mv /content/CenterNet-Fixed-For-Colab/src/cache/debug/  /content/CenterNet-Fixed-For-Colab/src/cache/ctdet_coco_dla_2x"
      ],
      "execution_count": null,
      "outputs": []
    },
    {
      "cell_type": "code",
      "metadata": {
        "id": "JuLanU1y4mgQ"
      },
      "source": [
        "!mkdir /content/CenterNet-Fixed-For-Colab/src/cache/debug"
      ],
      "execution_count": null,
      "outputs": []
    },
    {
      "cell_type": "markdown",
      "metadata": {
        "id": "obn_SKHh1E6i"
      },
      "source": [
        "## **resdcn 101**"
      ]
    },
    {
      "cell_type": "code",
      "metadata": {
        "id": "6tIO7KCfozlC"
      },
      "source": [
        "! python demo.py ctdet --demo /content/drive/MyDrive/Data/veerasense/challaenge-data/ \\\n",
        "     --load_model /content/drive/MyDrive/models/ctdet_coco_resdcn101.pth --arch resdcn_101"
      ],
      "execution_count": null,
      "outputs": []
    },
    {
      "cell_type": "code",
      "metadata": {
        "id": "-Q1J1Ziu0qO4"
      },
      "source": [
        "!zip -r /content/ctdet_coco_resdcn101.zip /content/CenterNet/src/cache/debug"
      ],
      "execution_count": null,
      "outputs": []
    },
    {
      "cell_type": "code",
      "metadata": {
        "id": "xGIoditJ4wkJ"
      },
      "source": [
        "!mv /content/CenterNet-Fixed-For-Colab/src/cache/debug/  /content/CenterNet-Fixed-For-Colab/src/cache/ctdet_coco_resdcn101"
      ],
      "execution_count": null,
      "outputs": []
    },
    {
      "cell_type": "code",
      "metadata": {
        "id": "Y1VPEVsZ4yRV"
      },
      "source": [
        "!mkdir /content/CenterNet-Fixed-For-Colab/src/cache/debug"
      ],
      "execution_count": null,
      "outputs": []
    },
    {
      "cell_type": "markdown",
      "metadata": {
        "id": "p_ka9HPY1JIT"
      },
      "source": [
        "## **resdcn 18**"
      ]
    },
    {
      "cell_type": "code",
      "metadata": {
        "id": "LxGwdGSptiF1"
      },
      "source": [
        "! python demo.py ctdet --demo /content/drive/MyDrive/Data/veerasense/challaenge-data/ \\\n",
        "     --load_model /content/drive/MyDrive/models/ctdet_coco_resdcn18.pth --arch resdcn_18"
      ],
      "execution_count": null,
      "outputs": []
    },
    {
      "cell_type": "code",
      "metadata": {
        "id": "NnnXOywJ4we6"
      },
      "source": [
        "!zip -r /content/ctdet_coco_resdcn18.zip /content/CenterNet/src/cache/debug"
      ],
      "execution_count": 19,
      "outputs": []
    },
    {
      "cell_type": "code",
      "metadata": {
        "id": "6WbTCIM3S4L_"
      },
      "source": [
        "!mv /content/CenterNet-Fixed-For-Colab/src/cache/debug/  /content/CenterNet-Fixed-For-Colab/src/cache/ctdet_coco_resdcn18"
      ],
      "execution_count": 20,
      "outputs": []
    },
    {
      "cell_type": "code",
      "metadata": {
        "id": "PpsQn5vS42yL"
      },
      "source": [
        "!mkdir /content/CenterNet-Fixed-For-Colab/src/cache/debug"
      ],
      "execution_count": null,
      "outputs": []
    }
  ]
}